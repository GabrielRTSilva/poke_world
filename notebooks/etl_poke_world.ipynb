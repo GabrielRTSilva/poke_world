{
 "cells": [
  {
   "cell_type": "markdown",
   "id": "ccca63f0",
   "metadata": {},
   "source": [
    "## ETL DOS DADOS DA APLICAÇÃO - Poke World"
   ]
  },
  {
   "cell_type": "markdown",
   "id": "89f4d7ae",
   "metadata": {},
   "source": [
    "# Região"
   ]
  },
  {
   "cell_type": "code",
   "execution_count": 1,
   "id": "f4359959",
   "metadata": {},
   "outputs": [
    {
     "name": "stdout",
     "output_type": "stream",
     "text": [
      "Requirement already satisfied: requests in c:\\users\\user_01\\appdata\\roaming\\python\\python312\\site-packages (2.31.0)\n",
      "Requirement already satisfied: charset-normalizer<4,>=2 in c:\\users\\user_01\\appdata\\roaming\\python\\python312\\site-packages (from requests) (3.3.2)\n",
      "Requirement already satisfied: idna<4,>=2.5 in c:\\users\\user_01\\appdata\\roaming\\python\\python312\\site-packages (from requests) (3.7)\n",
      "Requirement already satisfied: urllib3<3,>=1.21.1 in c:\\users\\user_01\\appdata\\roaming\\python\\python312\\site-packages (from requests) (2.2.1)\n",
      "Requirement already satisfied: certifi>=2017.4.17 in c:\\users\\user_01\\appdata\\roaming\\python\\python312\\site-packages (from requests) (2024.2.2)\n"
     ]
    },
    {
     "name": "stderr",
     "output_type": "stream",
     "text": [
      "\n",
      "[notice] A new release of pip is available: 24.0 -> 24.3.1\n",
      "[notice] To update, run: python.exe -m pip install --upgrade pip\n"
     ]
    }
   ],
   "source": [
    "#Baixando os pacotes\n",
    "!pip install requests"
   ]
  },
  {
   "cell_type": "code",
   "execution_count": 2,
   "id": "d76b0e2a",
   "metadata": {
    "scrolled": true
   },
   "outputs": [],
   "source": [
    "#Importando os pacotes\n",
    "\n",
    "import requests\n",
    "import pandas as pd\n",
    "from flask import jsonify"
   ]
  },
  {
   "cell_type": "code",
   "execution_count": 45,
   "id": "0bd18bb9",
   "metadata": {
    "scrolled": true
   },
   "outputs": [],
   "source": [
    "#Classe Região\n",
    "class Regiao():\n",
    "  def __init__(self, index, name, img, description, pokedex, pokemons):\n",
    "    self.index = index\n",
    "    self.name = name\n",
    "    self.img = img\n",
    "    self.description = description\n",
    "    self.pokedex = pokedex\n",
    "    self.pokemons = pokemons\n",
    "\n",
    "#Lista contendo o nome das regioes\n",
    "nome_regioes = ['kanto','johto','hoenn','sinnoh','unova','kalos','alola','galar']\n",
    "\n",
    "#Lista contendo o número da Pokedex da Região\n",
    "lista_indexes_pokedexes = [2,3,4,5,8,12,16,27]\n",
    "\n",
    "#Lista contendo as descricoes\n",
    "descricao_regioes = [' região de Kanto é a primeira introduzida na franquia Pokémon, baseada na região de Kanto no Japão. É conhecida por suas cidades icônicas como Pallet Town, Pewter City e Cerulean City. Kanto é o lar dos primeiros 151 Pokémon, e sua geografia inclui montanhas, florestas e mares. É uma região cheia de nostalgia para muitos fãs da série.',\n",
    "                     'Johto, localizada a oeste de Kanto, é inspirada nas regiões de Kansai e Chubu do Japão. Conhecida por sua rica cultura e tradições, Johto apresenta cidades como Goldenrod e Ecruteak. A região é famosa por suas lendas envolvendo os Pokémon lendários Ho-Oh e Lugia.',\n",
    "                     'A região de Hoenn é caracterizada por seu clima tropical e vasta biodiversidade. Inspirada na ilha de Kyushu, no Japão, Hoenn apresenta uma geografia diversificada, com desertos, florestas e oceanos. Cidades notáveis incluem Littleroot e Slateport.',\n",
    "                     'Sinnoh é conhecida por suas montanhas e clima frio. A região é inspirada na ilha de Hokkaido, no Japão, e apresenta uma rica mitologia envolvendo os Pokémon lendários Dialga, Palkia e Giratina. Cidades importantes incluem Jubilife e Snowpoint.',\n",
    "                     'Inspirada na cidade de Nova York, Unova é uma região moderna e urbana. É conhecida por suas cidades vibrantes e arranha-céus, como Castelia City. Unova traz uma nova perspectiva ao mundo Pokémon, introduzindo muitos Pokémon únicos e inovadores.',\n",
    "                     'Kalos é inspirada na França e é conhecida por sua elegância e beleza arquitetônica. A região é famosa pela cidade de Lumiose, um centro cultural e comercial. Kalos introduz a mecânica das Mega Evoluções, trazendo uma nova dimensão ao combate Pokémon.',\n",
    "                     'Inspirada nas ilhas do Havaí, Alola é uma região composta por várias ilhas tropicais. Conhecida por suas tradições culturais e Pokémon regionais únicos, Alola introduz o conceito de Trials ao invés de ginásios tradicionais. Cidades notáveis incluem Hau-oli e Malie.',\n",
    "                     'Galar é inspirada no Reino Unido e é conhecida por suas cidades industriais e paisagens rurais. A região apresenta um sistema de ginásios semelhante a estádios esportivos e introduz a mecânica do Dynamax e Gigantamax. Cidades importantes incluem Wyndon e Hammerlocke.',\n",
    "    ]\n",
    "\n",
    "#Lista contendo o URL das imagens\n",
    "img_regioes = ['https://archives.bulbagarden.net/media/upload/thumb/7/7d/PE_Kanto_Map.png/300px-PE_Kanto_Map.png',\n",
    "               'https://archives.bulbagarden.net/media/upload/thumb/6/64/JohtoMap.png/300px-JohtoMap.png',\n",
    "               'https://archives.bulbagarden.net/media/upload/thumb/8/85/Hoenn_ORAS.png/300px-Hoenn_ORAS.png',\n",
    "               'https://archives.bulbagarden.net/media/upload/thumb/0/08/Sinnoh_BDSP_artwork.png/300px-Sinnoh_BDSP_artwork.png',\n",
    "               'https://archives.bulbagarden.net/media/upload/thumb/f/fc/Unova_B2W2_alt.png/300px-Unova_B2W2_alt.png',\n",
    "               'https://archives.bulbagarden.net/media/upload/thumb/8/8a/Kalos_alt.png/300px-Kalos_alt.png',\n",
    "               'https://archives.bulbagarden.net/media/upload/thumb/0/0b/Alola_USUM_artwork.png/300px-Alola_USUM_artwork.png',\n",
    "               'https://archives.bulbagarden.net/media/upload/thumb/c/ce/Galar_artwork.png/300px-Galar_artwork.png']\n",
    "\n",
    "#Inicializa lista das regioes\n",
    "lista_r =  []\n",
    "#Contador\n",
    "x = 1\n",
    "\n",
    "#Instancia os objetos apartir do ZIP das listas contendo os parametros\n",
    "for name, img, description, pokedex in zip(nome_regioes, img_regioes, descricao_regioes, lista_indexes_pokedexes):\n",
    "  \n",
    "  #Cria a chave dos parametros para cada um dos objetos Regiao\n",
    "  params = {\n",
    "    'index': x,\n",
    "    'name': name,\n",
    "    'img': img,\n",
    "    'description': description,\n",
    "    'pokedex': pokedex,\n",
    "    'pokemons': None\n",
    "  }\n",
    "\n",
    "  #Conta 1 no index\n",
    "  x +=1 \n",
    "\n",
    "  #Istancia os objetos\n",
    "  regiao = Regiao(**params)\n",
    "  \n",
    "  #Adiciona a lista que será rendezerida na rota \n",
    "  lista_r.append(regiao)\n"
   ]
  },
  {
   "cell_type": "code",
   "execution_count": 47,
   "id": "396f41fc",
   "metadata": {},
   "outputs": [
    {
     "name": "stdout",
     "output_type": "stream",
     "text": [
      "Região: kanto - Pokemons 9\n",
      "Região: johto - Pokemons 9\n",
      "Região: hoenn - Pokemons 9\n",
      "Região: sinnoh - Pokemons 9\n",
      "Região: unova - Pokemons 10\n",
      "Região: kalos - Pokemons 9\n",
      "Região: alola - Pokemons 9\n",
      "Região: galar - Pokemons 9\n"
     ]
    }
   ],
   "source": [
    "#Classe Pokemon\n",
    "class Pokemon():\n",
    "    def __init__(self, index, name, types, img):\n",
    "        self.index = index\n",
    "        self.name = name\n",
    "        self.type = types\n",
    "        self.img = img\n",
    "\n",
    "url_pokedex = [f'https://pokeapi.co/api/v2/pokedex/{regiao.pokedex}/' for regiao in lista_r]\n",
    " \n",
    "for url, regiao in zip(url_pokedex, lista_r):\n",
    "    response = requests.get(url)\n",
    "    \n",
    "    if response.status_code == 200:\n",
    "        dados_pokedex = response.json()\n",
    "        \n",
    "        lista_nome = [pokemon['pokemon_species']['name'] for pokemon in dados_pokedex['pokemon_entries'] if pokemon['entry_number'] <= 9]\n",
    "        \n",
    "        lista_pokemons = []  # Redefine lista_pokemons para cada região\n",
    "        \n",
    "        for nome in lista_nome:\n",
    "            url = f'https://pokeapi.co/api/v2/pokemon/{nome}'\n",
    "            response_2 = requests.get(url)\n",
    "            \n",
    "            if response_2.status_code == 200:\n",
    "                dados_pokemon = response_2.json()\n",
    "                \n",
    "                params = {\n",
    "                    'index': dados_pokemon['id'],\n",
    "                    'name': dados_pokemon['name'],\n",
    "                    'types': [tipo['type']['name'] for tipo in dados_pokemon['types']],\n",
    "                    'img': dados_pokemon['sprites']['front_default']\n",
    "                }\n",
    "                \n",
    "                pokemon = Pokemon(**params)\n",
    "                lista_pokemons.append(pokemon)\n",
    "\n",
    "        regiao.pokemons = lista_pokemons\n",
    "    \n",
    "for regiao in lista_r:\n",
    "    tamanho_lista = len(regiao.pokemons)\n",
    "    print(f'Região: {regiao.name} - Pokemons {tamanho_lista}')\n",
    "    \n",
    "#Atualmente o tempo para carregamento de todas as informações é de 7min para todos os pokemons"
   ]
  },
  {
   "cell_type": "code",
   "execution_count": null,
   "id": "830d4dd5",
   "metadata": {},
   "outputs": [],
   "source": [
    "#Faz o request dos nomes dos pokemons. Em seguida, itera sobre a lista_nome para instanciar cada um dos pokemons e adicionar ao atributo Pokemons de cada objeto Region\n",
    "for url, regiao in zip(url_pokedex, lista_r):\n",
    "    #Faz um request do tipo get na url\n",
    "    response = requests.get(url)\n",
    "    \n",
    "    #Verifica se a resposta da pagina e positiva\n",
    "    if response.status_code == 200:\n",
    "        dados_pokedex = response.json()\n",
    "        \n",
    "        #Adiciona todos os nomes dos pokemons pertencente àquela Pokedex a lista_nome\n",
    "        lista_nome = [pokemon['pokemon_species']['name'] for pokemon in dados_pokedex['pokemon_entries'] if pokemon['entry_number'] <= 9]\n",
    "        \n",
    "        #Faz o request dos parametros de cada pokemon na API e instancia-os adicionando a lista_pokemons que por fim e adicionado ao atributo Regiao.pokemons\n",
    "        for nome in lista_nome:\n",
    "            \n",
    "            #Passa o nome do Pokemon para a url dinamica\n",
    "            url = f'https://pokeapi.co/api/v2/pokemon/{nome}'\n",
    "            \n",
    "            #Faz o request\n",
    "            response_2 = requests.get(url)\n",
    "            \n",
    "            if response_2.status_code == 200:\n",
    "                \n",
    "                #Resposta do request\n",
    "                dados_pokemon = response.json()\n",
    "                \n",
    "                #Parametrizacao dos atributos\n",
    "                params = {'index': dados_pokemon['id'],\n",
    "                 'name': dados_pokemon['name'],\n",
    "                 'types': [tipo['type']['name'] for tipo in dados_pokemon['types']],\n",
    "                 'cries': dados_pokemon['cries']['legacy'],\n",
    "                 'img': dados_pokemon['sprites']['front_default']}\n",
    "                \n",
    "                #Instancia o objeto Pokemon\n",
    "                pokemon = Pokemon(**params)\n",
    "                #Armazena o pokemon na lista Pokemon \n",
    "                lista_pokemons.append(pokemon)"
   ]
  }
 ],
 "metadata": {
  "kernelspec": {
   "display_name": "Python 3 (ipykernel)",
   "language": "python",
   "name": "python3"
  },
  "language_info": {
   "codemirror_mode": {
    "name": "ipython",
    "version": 3
   },
   "file_extension": ".py",
   "mimetype": "text/x-python",
   "name": "python",
   "nbconvert_exporter": "python",
   "pygments_lexer": "ipython3",
   "version": "3.9.7"
  }
 },
 "nbformat": 4,
 "nbformat_minor": 5
}
