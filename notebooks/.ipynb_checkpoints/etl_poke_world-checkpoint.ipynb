{
 "cells": [
  {
   "cell_type": "markdown",
   "id": "1d65c819",
   "metadata": {},
   "source": [
    "## ETL DOS DADOS DA APLICAÇÃO - Poke World"
   ]
  },
  {
   "cell_type": "markdown",
   "id": "58e2923e",
   "metadata": {},
   "source": [
    "# Região"
   ]
  },
  {
   "cell_type": "code",
   "execution_count": 3,
   "id": "a0895e6f",
   "metadata": {
    "collapsed": true
   },
   "outputs": [
    {
     "name": "stdout",
     "output_type": "stream",
     "text": [
      "Requirement already satisfied: requests in c:\\users\\user_01\\appdata\\roaming\\python\\python312\\site-packages (2.31.0)\n",
      "Requirement already satisfied: charset-normalizer<4,>=2 in c:\\users\\user_01\\appdata\\roaming\\python\\python312\\site-packages (from requests) (3.3.2)\n",
      "Requirement already satisfied: idna<4,>=2.5 in c:\\users\\user_01\\appdata\\roaming\\python\\python312\\site-packages (from requests) (3.7)\n",
      "Requirement already satisfied: urllib3<3,>=1.21.1 in c:\\users\\user_01\\appdata\\roaming\\python\\python312\\site-packages (from requests) (2.2.1)\n",
      "Requirement already satisfied: certifi>=2017.4.17 in c:\\users\\user_01\\appdata\\roaming\\python\\python312\\site-packages (from requests) (2024.2.2)\n"
     ]
    },
    {
     "name": "stderr",
     "output_type": "stream",
     "text": [
      "\n",
      "[notice] A new release of pip is available: 24.0 -> 24.2\n",
      "[notice] To update, run: python.exe -m pip install --upgrade pip\n"
     ]
    }
   ],
   "source": [
    "#Baixando os pacotes\n",
    "!pip install requests"
   ]
  },
  {
   "cell_type": "code",
   "execution_count": 7,
   "id": "b77d0923",
   "metadata": {
    "scrolled": true
   },
   "outputs": [],
   "source": [
    "#Importando os pacotes\n",
    "\n",
    "import requests\n",
    "import pandas as pd\n",
    "from flask import jsonify"
   ]
  },
  {
   "cell_type": "code",
   "execution_count": 12,
   "id": "f5600d53",
   "metadata": {
    "scrolled": true
   },
   "outputs": [],
   "source": [
    "#Classe Região\n",
    "\n",
    "class Regiao():\n",
    "  def __init__(self, index, name, description, pokemons, img):\n",
    "    self.index = index\n",
    "    self.name = name\n",
    "    self.description = description\n",
    "    self.pokemons = pokemons\n",
    "    self.img = img"
   ]
  },
  {
   "cell_type": "code",
   "execution_count": 19,
   "id": "6f99bc7a",
   "metadata": {
    "scrolled": true
   },
   "outputs": [],
   "source": [
    "#Classe Pokedex\n",
    "\n",
    "class Pokedex():\n",
    "    def __init__ (self, index, pokemons):\n",
    "        self.index = index\n",
    "        self.pokemons = pokemons"
   ]
  },
  {
   "cell_type": "code",
   "execution_count": 77,
   "id": "ad8a5760",
   "metadata": {},
   "outputs": [],
   "source": [
    "#Classe Pokemon\n",
    "\n",
    "class Pokemon():\n",
    "    def __init__(self, index, name, types, crie, img):\n",
    "        self.index = index\n",
    "        self.name = name\n",
    "        self.type = types\n",
    "        self.crie = crie\n",
    "        self.img = img"
   ]
  },
  {
   "cell_type": "code",
   "execution_count": 39,
   "id": "f6b8fb4e",
   "metadata": {
    "collapsed": true
   },
   "outputs": [
    {
     "name": "stdout",
     "output_type": "stream",
     "text": [
      "ID: 1 - Nome: kanto\n",
      "ID: 2 - Nome: johto\n",
      "ID: 3 - Nome: hoenn\n",
      "ID: 4 - Nome: sinnoh\n",
      "ID: 5 - Nome: unova\n",
      "ID: 6 - Nome: kalos\n",
      "ID: 7 - Nome: alola\n",
      "ID: 8 - Nome: galar\n",
      "ID: 9 - Nome: hisui\n"
     ]
    }
   ],
   "source": [
    "#Importando os dados - Classe Região\n",
    "\n",
    "urls_regiao = [f'https://pokeapi.co/api/v2/region/{num}' for num in list(range(1,10))]\n",
    "\n",
    "lista_regiao = []\n",
    "\n",
    "for url in urls_regiao:\n",
    "    response = requests.get(url)\n",
    "    if response.status_code == 200:\n",
    "        dados = response.json()\n",
    "        params = {'index': dados['id'], \n",
    "                'name': dados['name'],\n",
    "                'description': None,\n",
    "                'pokemons': [],\n",
    "                 'img': None}\n",
    "        regiao = Regiao(**params)\n",
    "        lista_regiao.append(regiao)\n",
    "    else:\n",
    "        print('Erro de Requisição')\n",
    "\n",
    "for regiao in lista_regiao:\n",
    "    print(f'ID: {regiao.index} - Nome: {regiao.name}')\n"
   ]
  },
  {
   "cell_type": "code",
   "execution_count": 69,
   "id": "c5dfe9a6",
   "metadata": {
    "collapsed": true
   },
   "outputs": [
    {
     "data": {
      "text/plain": [
       "'victini'"
      ]
     },
     "execution_count": 69,
     "metadata": {},
     "output_type": "execute_result"
    }
   ],
   "source": [
    "#Importando dados - Classe Pokedex\n",
    "\n",
    "lista_indexes_pokedexes = [2,3,4,5,8,12,16,27,30]\n",
    "\n",
    "url_pokedex = [f'https://pokeapi.co/api/v2/pokedex/{num}/' for num in lista_indexes_pokedexes]\n",
    "\n",
    "lista_pokedexes = []\n",
    "\n",
    "for url in url_pokedex:\n",
    "    response = requests.get(url)\n",
    "    if response.status_code == 200:\n",
    "        dados_pokedex = response.json()\n",
    "        params = {'index': dados_pokedex['id'],\n",
    "                 'pokemons': [pokemon['pokemon_species']['name'] for pokemon in dados_pokedex['pokemon_entries'] if pokemon['entry_number'] <= 9]\n",
    "                 }\n",
    "        pokedex = Pokedex(**params)\n",
    "        lista_pokedexes.append(pokedex)\n",
    "    else:\n",
    "        print('Erro de Requisição')\n",
    "\n",
    "#Exclui o Victini de indice 0 da Pokedex[4]\n",
    "lista_pokedexes[4].pokemons.pop(0)\n",
    "\n",
    "        \n",
    "     "
   ]
  },
  {
   "cell_type": "code",
   "execution_count": 70,
   "id": "46d93c05",
   "metadata": {
    "collapsed": true
   },
   "outputs": [
    {
     "name": "stdout",
     "output_type": "stream",
     "text": [
      "['bulbasaur', 'ivysaur', 'venusaur', 'charmander', 'charmeleon', 'charizard', 'squirtle', 'wartortle', 'blastoise']\n",
      "['chikorita', 'bayleef', 'meganium', 'cyndaquil', 'quilava', 'typhlosion', 'totodile', 'croconaw', 'feraligatr']\n",
      "['treecko', 'grovyle', 'sceptile', 'torchic', 'combusken', 'blaziken', 'mudkip', 'marshtomp', 'swampert']\n",
      "['turtwig', 'grotle', 'torterra', 'chimchar', 'monferno', 'infernape', 'piplup', 'prinplup', 'empoleon']\n",
      "['snivy', 'servine', 'serperior', 'tepig', 'pignite', 'emboar', 'oshawott', 'dewott', 'samurott']\n",
      "['chespin', 'quilladin', 'chesnaught', 'fennekin', 'braixen', 'delphox', 'froakie', 'frogadier', 'greninja']\n",
      "['rowlet', 'dartrix', 'decidueye', 'litten', 'torracat', 'incineroar', 'popplio', 'brionne', 'primarina']\n",
      "['grookey', 'thwackey', 'rillaboom', 'scorbunny', 'raboot', 'cinderace', 'sobble', 'drizzile', 'inteleon']\n",
      "['rowlet', 'dartrix', 'decidueye', 'cyndaquil', 'quilava', 'typhlosion', 'oshawott', 'dewott', 'samurott']\n"
     ]
    }
   ],
   "source": [
    "#Passando os respectivos Pokemons para as respectivas Regiões\n",
    "\n",
    "for regiao, pokedex in zip(lista_regiao, lista_pokedexes):\n",
    "    regiao.pokemons = pokedex.pokemons\n",
    "\n",
    "for regiao in lista_regiao:    \n",
    "    print(regiao.pokemons)"
   ]
  },
  {
   "cell_type": "code",
   "execution_count": 78,
   "id": "9bf050f6",
   "metadata": {},
   "outputs": [
    {
     "ename": "TypeError",
     "evalue": "__init__() got an unexpected keyword argument 'type'",
     "output_type": "error",
     "traceback": [
      "\u001b[1;31m---------------------------------------------------------------------------\u001b[0m",
      "\u001b[1;31mTypeError\u001b[0m                                 Traceback (most recent call last)",
      "Cell \u001b[1;32mIn [78], line 22\u001b[0m\n\u001b[0;32m     16\u001b[0m     dados_pokemon \u001b[38;5;241m=\u001b[39m response\u001b[38;5;241m.\u001b[39mjson()\n\u001b[0;32m     17\u001b[0m     params \u001b[38;5;241m=\u001b[39m {\u001b[38;5;124m'\u001b[39m\u001b[38;5;124mindex\u001b[39m\u001b[38;5;124m'\u001b[39m: dados_pokemon[\u001b[38;5;124m'\u001b[39m\u001b[38;5;124mid\u001b[39m\u001b[38;5;124m'\u001b[39m],\n\u001b[0;32m     18\u001b[0m              \u001b[38;5;124m'\u001b[39m\u001b[38;5;124mname\u001b[39m\u001b[38;5;124m'\u001b[39m: dados_pokemon[\u001b[38;5;124m'\u001b[39m\u001b[38;5;124mname\u001b[39m\u001b[38;5;124m'\u001b[39m],\n\u001b[0;32m     19\u001b[0m              \u001b[38;5;124m'\u001b[39m\u001b[38;5;124mtype\u001b[39m\u001b[38;5;124m'\u001b[39m: [tipo[\u001b[38;5;124m'\u001b[39m\u001b[38;5;124mtype\u001b[39m\u001b[38;5;124m'\u001b[39m][\u001b[38;5;124m'\u001b[39m\u001b[38;5;124mname\u001b[39m\u001b[38;5;124m'\u001b[39m] \u001b[38;5;28;01mfor\u001b[39;00m tipo \u001b[38;5;129;01min\u001b[39;00m dados_pokemon[\u001b[38;5;124m'\u001b[39m\u001b[38;5;124mtypes\u001b[39m\u001b[38;5;124m'\u001b[39m]],\n\u001b[0;32m     20\u001b[0m              \u001b[38;5;124m'\u001b[39m\u001b[38;5;124mcrie\u001b[39m\u001b[38;5;124m'\u001b[39m: dados_pokemon[\u001b[38;5;124m'\u001b[39m\u001b[38;5;124mcries\u001b[39m\u001b[38;5;124m'\u001b[39m][\u001b[38;5;124m'\u001b[39m\u001b[38;5;124mlatest\u001b[39m\u001b[38;5;124m'\u001b[39m],\n\u001b[0;32m     21\u001b[0m              \u001b[38;5;124m'\u001b[39m\u001b[38;5;124mimg\u001b[39m\u001b[38;5;124m'\u001b[39m: dados_pokemon[\u001b[38;5;124m'\u001b[39m\u001b[38;5;124msprites\u001b[39m\u001b[38;5;124m'\u001b[39m][\u001b[38;5;124m'\u001b[39m\u001b[38;5;124mfront_default\u001b[39m\u001b[38;5;124m'\u001b[39m]}\n\u001b[1;32m---> 22\u001b[0m     pokemon \u001b[38;5;241m=\u001b[39m Pokemon(\u001b[38;5;241m*\u001b[39m\u001b[38;5;241m*\u001b[39mparams)\n\u001b[0;32m     23\u001b[0m     lista_pokemons\u001b[38;5;241m.\u001b[39mappend(pokemon)\n\u001b[0;32m     24\u001b[0m \u001b[38;5;28;01melse\u001b[39;00m:\n",
      "\u001b[1;31mTypeError\u001b[0m: __init__() got an unexpected keyword argument 'type'"
     ]
    }
   ],
   "source": [
    "#Importando dados - Classe Pokemon\n",
    "\n",
    "#Unifica todos os Pokemons que pertencem ao Pokeworld\n",
    "total_poke = sum((pokedex.pokemons for pokedex in lista_pokedexes), [])\n",
    "\n",
    "#Cria a lista com todas as Urls que irão sofrer o request\n",
    "lista_url = [f'https://pokeapi.co/api/v2/pokemon/{nome_pokemon}/' for nome_pokemon in total_poke]\n",
    "\n",
    "#Inicializando a lista_pokemons\n",
    "lista_pokemons = []\n",
    "\n",
    "#Loop do Request\n",
    "for url in lista_url:\n",
    "    response = requests.get(url)\n",
    "    if response.status_code == 200:\n",
    "        dados_pokemon = response.json()\n",
    "        params = {'index': dados_pokemon['id'],\n",
    "                 'name': dados_pokemon['name'],\n",
    "                 'type': [tipo['type']['name'] for tipo in dados_pokemon['types']],\n",
    "                 'crie': dados_pokemon['cries']['latest'],\n",
    "                 'img': dados_pokemon['sprites']['front_default']}\n",
    "        pokemon = Pokemon(**params)\n",
    "        lista_pokemons.append(pokemon)\n",
    "    else:\n",
    "        print('Erro de requisição')\n",
    "\n"
   ]
  },
  {
   "cell_type": "code",
   "execution_count": null,
   "id": "0c151e6f",
   "metadata": {},
   "outputs": [],
   "source": []
  }
 ],
 "metadata": {
  "kernelspec": {
   "display_name": "Python 3 (ipykernel)",
   "language": "python",
   "name": "python3"
  },
  "language_info": {
   "codemirror_mode": {
    "name": "ipython",
    "version": 3
   },
   "file_extension": ".py",
   "mimetype": "text/x-python",
   "name": "python",
   "nbconvert_exporter": "python",
   "pygments_lexer": "ipython3",
   "version": "3.9.7"
  }
 },
 "nbformat": 4,
 "nbformat_minor": 5
}
